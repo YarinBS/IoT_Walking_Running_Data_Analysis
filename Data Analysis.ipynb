{
 "cells": [
  {
   "cell_type": "code",
   "execution_count": 1,
   "outputs": [],
   "source": [
    "import pandas as pd\n",
    "import matplotlib.pyplot as plt\n",
    "import os\n",
    "\n",
    "from tqdm import tqdm"
   ],
   "metadata": {
    "collapsed": false
   }
  },
  {
   "cell_type": "raw",
   "source": [
    "Loading data"
   ],
   "metadata": {
    "collapsed": false
   }
  },
  {
   "cell_type": "code",
   "execution_count": 2,
   "outputs": [],
   "source": [
    "def load_data(path: str):\n",
    "    df_list = []\n",
    "\n",
    "    for csv_file in os.listdir(path):\n",
    "        df = pd.read_csv(data_path + csv_file, skiprows=5)\n",
    "        df.name = csv_file\n",
    "        df_list.append(df)\n",
    "\n",
    "    return df_list\n",
    "\n",
    "\n",
    "data_path = r'./data/'\n",
    "dataframes = load_data(path=data_path)"
   ],
   "metadata": {
    "collapsed": false
   }
  },
  {
   "cell_type": "code",
   "execution_count": 3,
   "outputs": [],
   "source": [
    "def set_dataframes_format(df_list):\n",
    "    good_columns = ['Time [sec]', 'ACC X', 'ACC Y', 'ACC Z']\n",
    "\n",
    "    for dataframe in df_list:\n",
    "        columns_list = list(dataframe.columns)\n",
    "        for _ in range(2):\n",
    "            if columns_list != good_columns:\n",
    "                if \"Unnamed: 0\" in columns_list:\n",
    "                    dataframe.columns = dataframe.iloc[0]\n",
    "                    dataframe.drop(index=[0], axis=0, inplace=True)\n",
    "                else:\n",
    "                    dataframe.columns = good_columns\n",
    "                columns_list = list(dataframe.columns)\n",
    "\n",
    "    for dataframe in df_list:\n",
    "        if dataframe.index[0] != 0:\n",
    "            dataframe.set_index([pd.RangeIndex(start=0, step=1, stop=dataframe.index.stop - 1)], inplace=True)\n",
    "\n",
    "    return df_list\n",
    "\n",
    "\n",
    "dataframes = set_dataframes_format(dataframes)"
   ],
   "metadata": {
    "collapsed": false
   }
  },
  {
   "cell_type": "code",
   "execution_count": 4,
   "outputs": [],
   "source": [
    "def plot_df(df):\n",
    "    plt.plot(df['Time [sec]'], df['ACC X'])\n",
    "    plt.plot(df['Time [sec]'], df['ACC Y'])\n",
    "    plt.plot(df['Time [sec]'], df['ACC Z'])\n",
    "    plt.legend(['X', 'Y', 'Z'])\n",
    "    plt.title(df.name)\n",
    "    plt.show()"
   ],
   "metadata": {
    "collapsed": false
   }
  },
  {
   "cell_type": "markdown",
   "source": [
    "We start by cleaning the data, since it contains **a lot** of garbage.\n",
    "We remove the following recordings:\n",
    "\n",
    "1. All recording with timeskips, where the timestamp jumps to a high value and then back to a lower value\n",
    "2. All recordings with high variance in at least one axis\n",
    "3. All recordings where there are missing measurements for at least 1.5 seconds straight\n",
    "\n",
    "Also, for each recording, if there's a measurement with a value > 1e6, we remove that measurement from the file."
   ],
   "metadata": {
    "collapsed": false
   }
  },
  {
   "cell_type": "code",
   "execution_count": 5,
   "outputs": [],
   "source": [
    "def find_timeskips(dataframes):\n",
    "    dataframes_with_timeskips = []\n",
    "\n",
    "    for df in dataframes:\n",
    "        try:\n",
    "            if any([df.iat[i, 0] - df.iat[i + 1, 0] >= 0 for i in range(df.shape[0] - 1)]):\n",
    "                dataframes_with_timeskips.append(df.name)\n",
    "        except TypeError:\n",
    "            print(f\"{df.name} causes a TypeError\")\n",
    "\n",
    "    dataframes = [df for df in dataframes if df.name not in dataframes_with_timeskips]\n",
    "    return dataframes"
   ],
   "metadata": {
    "collapsed": false
   }
  },
  {
   "cell_type": "code",
   "execution_count": 6,
   "outputs": [],
   "source": [
    "def find_high_variance(dataframes):\n",
    "    high_variance_dataframes = []\n",
    "    for df in dataframes:\n",
    "        try:\n",
    "            for col in ['ACC X', 'ACC Y', 'ACC Z']:\n",
    "                max_val, min_val = df[col].max(), df[col].min()\n",
    "                test_val = max_val - min_val\n",
    "        except TypeError:\n",
    "            high_variance_dataframes.append(df.name)\n",
    "\n",
    "    dataframes = [df for df in dataframes if df.name not in high_variance_dataframes]\n",
    "    return dataframes"
   ],
   "metadata": {
    "collapsed": false
   }
  },
  {
   "cell_type": "code",
   "execution_count": 7,
   "outputs": [],
   "source": [
    "def find_missing_measurements(dataframes):\n",
    "    missing_measurements_dataframes = []\n",
    "\n",
    "    for df in dataframes:\n",
    "        if any([df.iat[i + 1, 0] - df.iat[i, 0] >= 1 for i in range(df.shape[0] - 1)]):\n",
    "            missing_measurements_dataframes.append(df.name)\n",
    "\n",
    "    dataframes = [df for df in dataframes if df.name not in missing_measurements_dataframes]\n",
    "    return dataframes"
   ],
   "metadata": {
    "collapsed": false
   }
  },
  {
   "cell_type": "code",
   "execution_count": 8,
   "outputs": [],
   "source": [
    "def find_peaks(dataframes):\n",
    "    dataframes_without_peaks = []\n",
    "    for df in dataframes:\n",
    "        new_df = df[(df['ACC X'] < 1e6) & (df['ACC Y'] < 1e6) & (df['ACC Z'] < 1e6)]\n",
    "        new_df.name = df.name\n",
    "        dataframes_without_peaks.append(new_df)\n",
    "    return dataframes_without_peaks"
   ],
   "metadata": {
    "collapsed": false
   }
  },
  {
   "cell_type": "code",
   "execution_count": 9,
   "outputs": [
    {
     "name": "stdout",
     "output_type": "stream",
     "text": [
      "11_walk_1_1.csv causes a TypeError\n",
      "11_walk_2_1.csv causes a TypeError\n",
      "11_walk_3_1.csv causes a TypeError\n",
      "11_walk_5_1.csv causes a TypeError\n",
      "6_run_3_1.csv causes a TypeError\n",
      "6_run_4_1.csv causes a TypeError\n",
      "6_walk_5_1.csv causes a TypeError\n"
     ]
    }
   ],
   "source": [
    "def filter_data(df_list: list):\n",
    "    df_list = find_timeskips(df_list)\n",
    "    df_list = find_high_variance(df_list)\n",
    "    df_list = find_missing_measurements(df_list)\n",
    "    df_list = find_peaks(df_list)\n",
    "    return df_list\n",
    "\n",
    "dataframes = filter_data(dataframes)"
   ],
   "metadata": {
    "collapsed": false
   }
  },
  {
   "cell_type": "code",
   "execution_count": 11,
   "outputs": [
    {
     "ename": "TypeError",
     "evalue": "",
     "output_type": "error",
     "traceback": [
      "\u001B[1;31m---------------------------------------------------------------------------\u001B[0m",
      "\u001B[1;31mTypeError\u001B[0m                                 Traceback (most recent call last)",
      "Cell \u001B[1;32mIn[11], line 1\u001B[0m\n\u001B[1;32m----> 1\u001B[0m \u001B[38;5;28;01mraise\u001B[39;00m \u001B[38;5;167;01mTypeError\u001B[39;00m\n",
      "\u001B[1;31mTypeError\u001B[0m: "
     ]
    }
   ],
   "source": [
    "raise TypeError"
   ],
   "metadata": {
    "collapsed": false
   }
  },
  {
   "cell_type": "code",
   "execution_count": null,
   "outputs": [],
   "source": [
    "path = r'./data/11_walk_1_1.csv'\n",
    "df = pd.read_csv(path, skiprows=5)\n",
    "fixed_df = set_dataframes_format([df])\n",
    "fixed_df[0]['Time [sec]'] = fixed_df[0]['Time [sec]'].apply(lambda x: 1 if isinstance(x, str) else 0)\n",
    "# fixed_df[0]['Time [sec]']\n",
    "\n",
    "\n",
    "fixed_df[0][fixed_df[0]['Time [sec]'] == 0]"
   ],
   "metadata": {
    "collapsed": false
   }
  },
  {
   "cell_type": "code",
   "execution_count": null,
   "outputs": [],
   "source": [],
   "metadata": {
    "collapsed": false
   }
  }
 ],
 "metadata": {
  "kernelspec": {
   "display_name": "Python 3",
   "language": "python",
   "name": "python3"
  },
  "language_info": {
   "codemirror_mode": {
    "name": "ipython",
    "version": 2
   },
   "file_extension": ".py",
   "mimetype": "text/x-python",
   "name": "python",
   "nbconvert_exporter": "python",
   "pygments_lexer": "ipython2",
   "version": "2.7.6"
  }
 },
 "nbformat": 4,
 "nbformat_minor": 0
}
